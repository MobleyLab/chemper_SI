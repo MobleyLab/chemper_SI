{
 "cells": [
  {
   "cell_type": "markdown",
   "metadata": {},
   "source": [
    "# Make LaTeX tables\n",
    "\n",
    "This notebook will be used to make LaTeX tables for the supporting informations"
   ]
  },
  {
   "cell_type": "code",
   "execution_count": 13,
   "metadata": {},
   "outputs": [],
   "source": [
    "import pickle"
   ]
  },
  {
   "cell_type": "code",
   "execution_count": 14,
   "metadata": {},
   "outputs": [],
   "source": [
    "def process_smirks(smirks):\n",
    "    new_smirks = smirks.replace('~', '$\\\\sim$')\n",
    "    new_smirks = new_smirks.replace('#', '\\#')\n",
    "    return '\\\\texttt{%s}' % new_smirks"
   ]
  },
  {
   "cell_type": "code",
   "execution_count": 15,
   "metadata": {},
   "outputs": [],
   "source": [
    "d = pickle.load(open('./mol_files/reduced_smirks_dict_5k.p', 'rb'))\n",
    "lines = list()"
   ]
  },
  {
   "cell_type": "markdown",
   "metadata": {},
   "source": [
    "## Longest SMIRKS\n",
    "\n",
    "Longest SMIRKS was the sorting that worked for the most fragment types so those are the ones we decided to show in the supporting information PDF. We'll do this separately for each parameter type because they all have different parameter situations."
   ]
  },
  {
   "cell_type": "markdown",
   "metadata": {},
   "source": [
    "**Bond**\n",
    "\n",
    "The label for bonds is in the form `zz_[k]\\t[length]` where k is in the AMBER form (that is technically k/2) then length in A.\n"
   ]
  },
  {
   "cell_type": "code",
   "execution_count": 16,
   "metadata": {},
   "outputs": [],
   "source": [
    "lines.append('\\\\begin{longtable}{>{\\\\baselineskip=10pt}p{.2\\\\textwidth} >{\\\\baselineskip=10pt}p{.2\\\\textwidth} >{\\\\baselineskip=10pt}p{.5\\\\textwidth}} \\n')\n",
    "lines.append('\\\\hline \\n')\n",
    "lines.append('\\multicolumn{3}{c}{Bond Parameters} \\\\\\\\ \\n')\n",
    "lines.append('\\\\hline \\n')\n",
    "lines.append('\\\\textbf{$k$} & \\\\textbf{$l$} & \\\\textbf{\\\\texttt{SMIRKS}} \\\\\\\\ \\n')\n",
    "lines.append('\\\\hline \\n')\n",
    "lines.append('\\\\endhead')\n",
    "\n",
    "for param, smirks in d['bond']['big_smirks']['output_5k']:\n",
    "    p = param.replace('zz_', '')\n",
    "    k, l = p.split()\n",
    "    lines.append('%s & %s & %s \\\\\\\\ \\n' % (k, l, process_smirks(smirks)))\n",
    "\n",
    "lines.append('\\\\hline')\n",
    "lines.append('\\\\caption{These are the bond parameters from the reference force field with the associated \\\\texttt{SMIRKS} patterns created with ChemPer} \\n')\n",
    "lines.append('\\\\label{tab:protein_bond}\\n')\n",
    "lines.append('\\\\end{longtable}\\n\\n\\n')\n",
    "\n"
   ]
  },
  {
   "cell_type": "markdown",
   "metadata": {},
   "source": [
    "**Angle**\n",
    "\n",
    "The label for angles is in the form `zz_[k]\\t[angle]` where k is in the AMBER form (that is technically k/2) then angle in degrees."
   ]
  },
  {
   "cell_type": "code",
   "execution_count": 17,
   "metadata": {},
   "outputs": [],
   "source": [
    "lines.append('\\\\begin{longtable}{>{\\\\baselineskip=10pt}p{.2\\\\textwidth} >{\\\\baselineskip=10pt}p{.2\\\\textwidth} >{\\\\baselineskip=10pt}p{.5\\\\textwidth}} \\n')\n",
    "lines.append('\\\\hline \\n')\n",
    "lines.append('\\multicolumn{3}{c}{Angle Parameters} \\\\\\\\ \\n')\n",
    "lines.append('\\\\hline \\n')\n",
    "lines.append('\\\\textbf{$k$} & \\\\textbf{$\\\\theta$} & \\\\textbf{\\\\texttt{SMIRKS}} \\\\\\\\ \\n')\n",
    "lines.append('\\\\hline \\n')\n",
    "lines.append('\\\\endhead')\n",
    "\n",
    "for param, smirks in d['angle']['big_smirks']['output_5k']:\n",
    "    p = param.replace('zz_', '')\n",
    "    k, theta = p.split()\n",
    "    lines.append('%s & %s & %s \\\\\\\\ \\n' % (k, theta, process_smirks(smirks)))\n",
    "\n",
    "lines.append('\\\\hline')\n",
    "lines.append('\\\\caption{These are the angle parameters from the reference force field with the associated \\\\texttt{SMIRKS} patterns created with ChemPer} \\n')\n",
    "lines.append('\\\\label{tab:protein_angle}\\n')\n",
    "lines.append('\\\\end{longtable}\\n\\n\\n')"
   ]
  },
  {
   "cell_type": "markdown",
   "metadata": {},
   "source": [
    "**Improper Torsions**\n",
    "\n",
    "The label for improper torsions is in the form `zz_[u]\\t[w]\\t[n]`. These will need to be reordered to\n",
    "n, w, u with less decimal points on n and w"
   ]
  },
  {
   "cell_type": "code",
   "execution_count": 18,
   "metadata": {},
   "outputs": [],
   "source": [
    "lines.append('\\\\begin{longtable}{>{\\\\baselineskip=10pt}p{.05\\\\textwidth} >{\\\\baselineskip=10pt}p{.07\\\\textwidth} >{\\\\baselineskip=10pt}p{.12\\\\textwidth} >{\\\\baselineskip=10pt}p{.72\\\\textwidth}} \\n')\n",
    "lines.append('\\\\hline \\n')\n",
    "lines.append('\\multicolumn{4}{c}{Improper Torsion Parameters} \\\\\\\\ \\n')\n",
    "lines.append('\\\\hline \\n')\n",
    "lines.append('\\\\textbf{$n$} & textbf{$\\\\omega$} & \\\\textbf{$u$} & \\\\textbf{\\\\texttt{SMIRKS}} \\\\\\\\ \\n')\n",
    "lines.append('\\\\hline \\n')\n",
    "lines.append('\\\\endhead')\n",
    "\n",
    "for param, smirks in d['improper_torsion']['big_smirks']['output_5k']:\n",
    "    p = param.replace('zz_', '')\n",
    "    u,w,n, _ = p.split()\n",
    "    w = w.split('.')[0]\n",
    "    n = n.split('.')[0]\n",
    "    \n",
    "    lines.append('%s & %s & %s & %s \\\\\\\\ \\n' % (n, w, u, process_smirks(smirks)))\n",
    "\n",
    "lines.append('\\\\hline')\n",
    "lines.append('\\\\caption{These are the improper torsion parameters from the reference force field with the associated \\\\texttt{SMIRKS} patterns created with ChemPer} \\n')\n",
    "lines.append('\\\\label{tab:protein_improper}\\n')\n",
    "lines.append('\\\\end{longtable}\\n\\n\\n')"
   ]
  },
  {
   "cell_type": "markdown",
   "metadata": {},
   "source": [
    "**Proper Torsion**\n",
    "\n",
    "Proper torsions can have multiple torsion parameters assigned to them so we need to account for that they come in the form:\n",
    "`zz_[u]\\t[w]\\t[n]\\t[u2]\\t[w2]\\t[n2]...`"
   ]
  },
  {
   "cell_type": "code",
   "execution_count": 19,
   "metadata": {
    "scrolled": true
   },
   "outputs": [],
   "source": [
    "lines.append('\\\\begin{longtable}{>{\\\\baselineskip=10pt}p{.05\\\\textwidth} >{\\\\baselineskip=10pt}p{.07\\\\textwidth} >{\\\\baselineskip=10pt}p{.12\\\\textwidth} >{\\\\baselineskip=10pt}p{.72\\\\textwidth}} \\n')\n",
    "lines.append('\\\\hline \\n')\n",
    "lines.append('\\multicolumn{4}{c}{Proper Torsion Parameters} \\\\\\\\ \\n')\n",
    "lines.append('\\\\hline \\n')\n",
    "lines.append('\\\\textbf{$n$} & \\\\textbf{$\\\\omega$} & \\\\textbf{$u$} & \\\\textbf{\\\\texttt{SMIRKS}} \\\\\\\\ \\n')\n",
    "lines.append('\\\\hline \\n')\n",
    "lines.append('\\\\endhead')\n",
    "\n",
    "for param, smirks in d['proper_torsion']['big_smirks']['output_5k']:\n",
    "    p = param.replace('zz_', '').split('\\t')\n",
    "    torsions = list()\n",
    "    for idx in range(0,len(p),3):\n",
    "        u = p[idx]\n",
    "        w = p[idx+1].split('.')[0]\n",
    "        n = p[idx+2].split('.')[0]\n",
    "        torsions.append((n,w,u))\n",
    "    if len(torsions) == 1:\n",
    "        n,w,u = torsions[0]\n",
    "        lines.append('%s & %s & %s & %s \\\\\\\\ \\n' % (n, w, u, process_smirks(smirks)))\n",
    "    else:\n",
    "        ts = len(torsions)\n",
    "        n,w,u = torsions[0]\n",
    "        lines.append('%s & %s & %s & \\\\multirow[t]{%i}{*}{%s} \\\\\\\\ \\n' % (n, w, u, ts, process_smirks(smirks)))\n",
    "        for n,w,u in torsions[1:]:\n",
    "            lines.append('%s & %s & %s & \\\\\\\\ \\n' % (n,w,u))\n",
    "        \n",
    "lines.append('\\\\hline')\n",
    "lines.append('\\\\caption{These are the proper torsion parameters from the reference force field with the associated \\\\texttt{SMIRKS} patterns created with ChemPer} \\n')\n",
    "lines.append('\\\\label{tab:protein_proper}\\n')\n",
    "lines.append('\\\\end{longtable}\\n\\n\\n')"
   ]
  },
  {
   "cell_type": "markdown",
   "metadata": {},
   "source": [
    "**Lennard-Jones**\n",
    "These have parameters in the order `zz_[epsilon]\\t[rmin_half]`"
   ]
  },
  {
   "cell_type": "code",
   "execution_count": 20,
   "metadata": {},
   "outputs": [],
   "source": [
    "# table header\n",
    "lines.append('\\\\begin{longtable}{>{\\\\baselineskip=10pt}p{.2\\\\textwidth} >{\\\\baselineskip=10pt}p{.2\\\\textwidth} >{\\\\baselineskip=10pt}p{.5\\\\textwidth}} \\n')\n",
    "lines.append('\\\\hline \\n')\n",
    "lines.append('\\multicolumn{3}{c}{Lennard-Jones Parameters} \\\\\\\\ \\n')\n",
    "lines.append('\\\\hline \\n')\n",
    "lines.append('\\\\textbf{$\\\\epsilon$} & \\\\textbf{$r_{min}$} & \\\\textbf{\\\\texttt{SMIRKS}} \\\\\\\\ \\n')\n",
    "lines.append('\\\\hline \\n')\n",
    "lines.append('\\\\endhead')\n",
    "\n",
    "for param, smirks in d['lj']['big_smirks']['output_5k']:\n",
    "    p = param.replace('zz_', '')\n",
    "    e,r = p.split()\n",
    "    lines.append('%s & %s & %s \\\\\\\\ \\n' % (e, r, process_smirks(smirks)))\n",
    "    \n",
    "lines.append('\\\\hline')\n",
    "lines.append('\\\\caption{These are the Lennard-Jones parameters from the reference force field with the associated \\\\texttt{SMIRKS} patterns created with ChemPer} \\n')\n",
    "lines.append('\\\\label{tab:protein_lj}\\n')\n",
    "lines.append('\\\\end{longtable}\\n\\n\\n')\n",
    "\n"
   ]
  },
  {
   "cell_type": "markdown",
   "metadata": {},
   "source": [
    "**Charges** \n",
    "\n",
    "These did not pass when sorted by longest SMIRKS so in this case we'll use the one case where it did pass, `biggest_size`"
   ]
  },
  {
   "cell_type": "markdown",
   "metadata": {},
   "source": [
    "```python\n",
    "lines.append('\\\\begin{longtable}{>{\\\\baselineskip=10pt}p{.2\\\\textwidth} >{\\\\baselineskip=10pt}p{.75\\\\textwidth}} \\n')\n",
    "lines.append('\\\\hline \\n')\n",
    "lines.append('\\\\textbf{$q$} & \\\\textbf{\\\\texttt{SMIRKS}} \\\\\\\\ \\n')\n",
    "lines.append('\\\\hline \\n')\n",
    "lines.append('\\\\endhead')\n",
    "\n",
    "for param, smirks in d['charge']['biggest_size']['output_5k']:\n",
    "    q = param.replace('zz_','').split('\\t')[0]\n",
    "    lines.append('%s & %s \\\\\\\\ \\n' % (q, process_smirks(smirks)))\n",
    "    \n",
    "lines.append('\\\\hline')\n",
    "lines.append('\\\\caption{These are the charge parameters from the reference force field with the associated \\\\texttt{SMIRKS} patterns created with ChemPer} \\n')\n",
    "lines.append('\\\\label{tab:protein_charge}\\n')\n",
    "lines.append('\\\\end{longtable}\\n\\n\\n')\n",
    "```"
   ]
  },
  {
   "cell_type": "markdown",
   "metadata": {},
   "source": [
    "### Save lines to tex file"
   ]
  },
  {
   "cell_type": "code",
   "execution_count": 21,
   "metadata": {},
   "outputs": [],
   "source": [
    "f = open('protein_smirks.tex','w')\n",
    "f.writelines(lines)\n",
    "f.close()"
   ]
  },
  {
   "cell_type": "code",
   "execution_count": null,
   "metadata": {},
   "outputs": [],
   "source": []
  }
 ],
 "metadata": {
  "kernelspec": {
   "display_name": "Python 3",
   "language": "python",
   "name": "python3"
  },
  "language_info": {
   "codemirror_mode": {
    "name": "ipython",
    "version": 3
   },
   "file_extension": ".py",
   "mimetype": "text/x-python",
   "name": "python",
   "nbconvert_exporter": "python",
   "pygments_lexer": "ipython3",
   "version": "3.5.5"
  }
 },
 "nbformat": 4,
 "nbformat_minor": 2
}
